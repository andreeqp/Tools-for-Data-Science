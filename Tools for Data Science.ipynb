{
 "cells": [
  {
   "cell_type": "markdown",
   "id": "9843a37c-0f62-4a14-b3f5-556f9a7818a6",
   "metadata": {},
   "source": [
    "# My Jupyter Notebook"
   ]
  },
  {
   "cell_type": "markdown",
   "id": "dc648233-cbec-445c-ad23-d3dbf8eb836d",
   "metadata": {},
   "source": [
    "**Andreé Hiller Quintana Palomino** "
   ]
  },
  {
   "cell_type": "markdown",
   "id": "5c94d605-2fe0-463a-9b11-7e8508398ff1",
   "metadata": {},
   "source": [
    "_I am a mechatronic engineer. This notebook explains the basics of data science tools as part of a hands-on exercise._"
   ]
  },
  {
   "cell_type": "markdown",
   "id": "f8ca3af1-99d0-477b-9c78-2ebbe2b5955f",
   "metadata": {
    "tags": []
   },
   "source": [
    "Main Languajes:\n",
    "* Python\n",
    "* R\n",
    "* SQL\n",
    "* Others:\n",
    "  * Scala\n",
    "  * Julia\n",
    "  * C++\n",
    "  * Java\n",
    "  * Javascript\n",
    "  * PHP\n",
    "  * Go\n",
    "  * Ruby\n",
    "  * Visual basic\n",
    "\n"
   ]
  },
  {
   "cell_type": "markdown",
   "id": "69cb70b1-a6d1-44eb-8a06-92323382d32f",
   "metadata": {},
   "source": [
    "Data science libraries for Python:\n",
    "1. Scientifics Computing\n",
    "  * Pandas\n",
    "  * Numpy\n",
    "2. Visualization\n",
    "  * Matplotlib\n",
    "  * Seaborn\n",
    "3. Machine Learning and Deep Learning \n",
    "  * Scikit-learn\n",
    "  * keras\n",
    "  * TensorFlow (Deep Learning)\n",
    "  * Pytorch (Deep Learning)"
   ]
  },
  {
   "cell_type": "markdown",
   "id": "51e5878e-83a4-4b16-a9d7-6ec2c3ffefe6",
   "metadata": {},
   "source": [
    "| Open Source Tools | Commercial Tools | Cloud Based Tools |\n",
    "| --- | --- | --- |\n",
    "| MySQL | Microsoft SQL | Watson  OpenScale |\n",
    "| AirFlow |  IBM InfoSphere DataStage  | Microsoft Azure Machine Learning |\n",
    "| Kibana | Watson Studio Desktop | H2O Driverless AI |\n",
    "| TensorFlow service| Microsoft Power BI | Azure Machine Learning |\n",
    "| Prometheus | SPSS Modeler | Amazon Web Services DynamoDB |\n",
    "| Github | Kubernetes | JSON |\n",
    "| Atlas |  H2O Driverless AI |  Amazon SageMaker Model Monitor  |\n",
    "| OTHERS | OTHERS | OTHERS |"
   ]
  },
  {
   "cell_type": "markdown",
   "id": "32382002-3760-43de-887c-8e9036144f68",
   "metadata": {},
   "source": [
    "### multiply and add numbers"
   ]
  },
  {
   "cell_type": "code",
   "execution_count": 3,
   "id": "8f71307e-1b66-4cd9-920e-7ba5ef17a42f",
   "metadata": {},
   "outputs": [
    {
     "name": "stdout",
     "output_type": "stream",
     "text": [
      "5\n",
      "6\n"
     ]
    }
   ],
   "source": [
    "def sum(x1,x2):\n",
    "    y=x1+x2\n",
    "    return y\n",
    "def mul(x1,x2):\n",
    "    y=x1*x2\n",
    "    return y\n",
    "m= mul(2,3)\n",
    "s=sum(2,3)\n",
    "print(s)\n",
    "print(m)"
   ]
  },
  {
   "cell_type": "markdown",
   "id": "6c10f3db-4a86-481a-aaa7-e0e506937a07",
   "metadata": {},
   "source": [
    "### Convert Min to Hours\n"
   ]
  },
  {
   "cell_type": "code",
   "execution_count": 4,
   "id": "943d79f4-781d-4168-8c85-9ed5522d0100",
   "metadata": {},
   "outputs": [
    {
     "name": "stdout",
     "output_type": "stream",
     "text": [
      "2.0\n"
     ]
    }
   ],
   "source": [
    "def conv(min):\n",
    "    y=min/60\n",
    "    return y\n",
    "hours= conv(120)\n",
    "print(hours)\n"
   ]
  },
  {
   "cell_type": "markdown",
   "id": "954a50eb-4515-4086-a72b-22d6c82eeb0c",
   "metadata": {},
   "source": [
    "### Objectives\n",
    "\n",
    "* Create an introductory jupyterlab\n",
    "* Know the basics of Jupyterlab\n",
    "* Sharing with Github\n"
   ]
  },
  {
   "cell_type": "markdown",
   "id": "f97d55f9-0aa3-47e7-960e-bb66dec25c0a",
   "metadata": {},
   "source": [
    "**Author : Andreé Hiller Quintana Palomino** "
   ]
  }
 ],
 "metadata": {
  "kernelspec": {
   "display_name": "Python",
   "language": "python",
   "name": "conda-env-python-py"
  },
  "language_info": {
   "codemirror_mode": {
    "name": "ipython",
    "version": 3
   },
   "file_extension": ".py",
   "mimetype": "text/x-python",
   "name": "python",
   "nbconvert_exporter": "python",
   "pygments_lexer": "ipython3",
   "version": "3.7.12"
  }
 },
 "nbformat": 4,
 "nbformat_minor": 5
}
