{
 "cells": [
  {
   "cell_type": "markdown",
   "id": "9843a37c-0f62-4a14-b3f5-556f9a7818a6",
   "metadata": {},
   "source": [
    "# DATA SCIENCE TOOLS AND ECOSYSTEM"
   ]
  },
  {
   "cell_type": "markdown",
   "id": "5c94d605-2fe0-463a-9b11-7e8508398ff1",
   "metadata": {},
   "source": [
    "_I am a mechatronic engineer. This notebook explains the basics of data science tools as part of a hands-on exercise._"
   ]
  },
  {
   "cell_type": "markdown",
   "id": "f8ca3af1-99d0-477b-9c78-2ebbe2b5955f",
   "metadata": {
    "tags": []
   },
   "source": [
    "Main Languajes:\n",
    "* Python\n",
    "* R\n",
    "* SQL\n",
    "* Scala\n",
    "* Java\n",
    "* C++\n",
    "* Julia\n",
    "* Javascript\n",
    "* PHP\n",
    "* Go\n",
    "* Ruby\n",
    "* Visual basic\n",
    "\n"
   ]
  },
  {
   "cell_type": "markdown",
   "id": "69cb70b1-a6d1-44eb-8a06-92323382d32f",
   "metadata": {},
   "source": [
    "Data science libraries for Python:\n",
    "\n",
    "  1. Pandas\n",
    "  2. Numpy\n",
    "  3. Matplotlib\n",
    "  4. Seaborn\n",
    "  5. Scikit-learn\n",
    "  6. keras\n",
    "  7. TensorFlow (Deep Learning)\n",
    "  8. Pytorch (Deep Learning)\n",
    "  9. Apache Spark\n",
    "  10. Others"
   ]
  },
  {
   "cell_type": "markdown",
   "id": "51e5878e-83a4-4b16-a9d7-6ec2c3ffefe6",
   "metadata": {},
   "source": [
    "| Data Science Tools |\n",
    "| --- |\n",
    "| Ananconda |\n",
    "| Jupyter Notebooks |  \n",
    "| RStudio | \n",
    "| Spyder| \n",
    "| Zeppelin | \n",
    "| OTHERS | "
   ]
  },
  {
   "cell_type": "markdown",
   "id": "32382002-3760-43de-887c-8e9036144f68",
   "metadata": {},
   "source": [
    "### Arithmetic expressions in Python"
   ]
  },
  {
   "cell_type": "code",
   "execution_count": 5,
   "id": "8f71307e-1b66-4cd9-920e-7ba5ef17a42f",
   "metadata": {},
   "outputs": [
    {
     "data": {
      "text/plain": [
       "97"
      ]
     },
     "execution_count": 5,
     "metadata": {},
     "output_type": "execute_result"
    }
   ],
   "source": [
    "\n",
    "#This is  simple expression to multiply and add\n",
    "\n",
    "(19*5)+2"
   ]
  },
  {
   "cell_type": "code",
   "execution_count": 6,
   "id": "943d79f4-781d-4168-8c85-9ed5522d0100",
   "metadata": {},
   "outputs": [
    {
     "name": "stdout",
     "output_type": "stream",
     "text": [
      "2.0\n"
     ]
    }
   ],
   "source": [
    "#this is a function to convert minutes to hours\n",
    "def conv(min):\n",
    "    y=min/60\n",
    "    return y\n",
    "# convert 120min to hours\n",
    "hours= conv(120)\n",
    "print(hours)\n"
   ]
  },
  {
   "cell_type": "markdown",
   "id": "954a50eb-4515-4086-a72b-22d6c82eeb0c",
   "metadata": {},
   "source": [
    "**Objectives**\n",
    "\n",
    "* Add comments to code cell\n",
    "* Create markdown cells\n",
    "* Format content of markdown cells with heading styles\n",
    "* Sharing with Github\n",
    "\n"
   ]
  },
  {
   "cell_type": "markdown",
   "id": "f97d55f9-0aa3-47e7-960e-bb66dec25c0a",
   "metadata": {},
   "source": [
    "## Author(s):\n",
    "\n",
    "Andreé Hiller Qu"
   ]
  }
 ],
 "metadata": {
  "kernelspec": {
   "display_name": "Python",
   "language": "python",
   "name": "conda-env-python-py"
  },
  "language_info": {
   "codemirror_mode": {
    "name": "ipython",
    "version": 3
   },
   "file_extension": ".py",
   "mimetype": "text/x-python",
   "name": "python",
   "nbconvert_exporter": "python",
   "pygments_lexer": "ipython3",
   "version": "3.7.12"
  }
 },
 "nbformat": 4,
 "nbformat_minor": 5
}
